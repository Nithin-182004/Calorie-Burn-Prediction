{
  "nbformat": 4,
  "nbformat_minor": 0,
  "metadata": {
    "colab": {
      "provenance": []
    },
    "kernelspec": {
      "name": "python3",
      "display_name": "Python 3"
    },
    "language_info": {
      "name": "python"
    }
  },
  "cells": [
    {
      "cell_type": "code",
      "execution_count": 2,
      "metadata": {
        "colab": {
          "base_uri": "https://localhost:8080/",
          "height": 34
        },
        "id": "Ve73nthNliIN",
        "outputId": "39b8af80-482b-4a17-bce5-36f93e553c1b"
      },
      "outputs": [
        {
          "output_type": "stream",
          "name": "stdout",
          "text": [
            "Validation RMSLE: 0.0898304054563124\n"
          ]
        },
        {
          "output_type": "display_data",
          "data": {
            "text/plain": [
              "<IPython.core.display.Javascript object>"
            ],
            "application/javascript": [
              "\n",
              "    async function download(id, filename, size) {\n",
              "      if (!google.colab.kernel.accessAllowed) {\n",
              "        return;\n",
              "      }\n",
              "      const div = document.createElement('div');\n",
              "      const label = document.createElement('label');\n",
              "      label.textContent = `Downloading \"${filename}\": `;\n",
              "      div.appendChild(label);\n",
              "      const progress = document.createElement('progress');\n",
              "      progress.max = size;\n",
              "      div.appendChild(progress);\n",
              "      document.body.appendChild(div);\n",
              "\n",
              "      const buffers = [];\n",
              "      let downloaded = 0;\n",
              "\n",
              "      const channel = await google.colab.kernel.comms.open(id);\n",
              "      // Send a message to notify the kernel that we're ready.\n",
              "      channel.send({})\n",
              "\n",
              "      for await (const message of channel.messages) {\n",
              "        // Send a message to notify the kernel that we're ready.\n",
              "        channel.send({})\n",
              "        if (message.buffers) {\n",
              "          for (const buffer of message.buffers) {\n",
              "            buffers.push(buffer);\n",
              "            downloaded += buffer.byteLength;\n",
              "            progress.value = downloaded;\n",
              "          }\n",
              "        }\n",
              "      }\n",
              "      const blob = new Blob(buffers, {type: 'application/binary'});\n",
              "      const a = document.createElement('a');\n",
              "      a.href = window.URL.createObjectURL(blob);\n",
              "      a.download = filename;\n",
              "      div.appendChild(a);\n",
              "      a.click();\n",
              "      div.remove();\n",
              "    }\n",
              "  "
            ]
          },
          "metadata": {}
        },
        {
          "output_type": "display_data",
          "data": {
            "text/plain": [
              "<IPython.core.display.Javascript object>"
            ],
            "application/javascript": [
              "download(\"download_237b2c2f-3c76-4208-8b12-b717f8efa43a\", \"submission.csv\", 4168540)"
            ]
          },
          "metadata": {}
        }
      ],
      "source": [
        "import os\n",
        "import pandas as pd\n",
        "import numpy as np\n",
        "from sklearn.model_selection import train_test_split\n",
        "from sklearn.preprocessing import StandardScaler, LabelEncoder\n",
        "from sklearn.metrics import mean_squared_log_error\n",
        "import xgboost as xgb\n",
        "\n",
        "train = pd.read_csv('train.csv')\n",
        "test = pd.read_csv('test.csv')\n",
        "sample_submission = pd.read_csv('sample_submission.csv')\n",
        "\n",
        "train['is_train'] = 1\n",
        "test['is_train'] = 0\n",
        "test['Calories'] = np.nan\n",
        "combined = pd.concat([train, test], axis=0, ignore_index=True)\n",
        "\n",
        "for col in combined.select_dtypes(include=['object']).columns:\n",
        "    encoder = LabelEncoder()\n",
        "    combined[col] = encoder.fit_transform(combined[col].astype(str))\n",
        "\n",
        "train = combined[combined['is_train'] == 1].drop(columns=['is_train'])\n",
        "test = combined[combined['is_train'] == 0].drop(columns=['is_train', 'Calories'])\n",
        "\n",
        "X = train.drop(['id', 'Calories'], axis=1)\n",
        "y = train['Calories']\n",
        "test_ids = test['id']\n",
        "X_test = test.drop('id', axis=1)\n",
        "\n",
        "X.fillna(X.mean(), inplace=True)\n",
        "X_test.fillna(X_test.mean(), inplace=True)\n",
        "\n",
        "scaler = StandardScaler()\n",
        "X_scaled = scaler.fit_transform(X)\n",
        "X_test_scaled = scaler.transform(X_test)\n",
        "\n",
        "X_train, X_val, y_train, y_val = train_test_split(X_scaled, y, test_size=0.2, random_state=42)\n",
        "\n",
        "model = xgb.XGBRegressor(objective='reg:squaredlogerror', n_estimators=100, learning_rate=0.1, max_depth=6, random_state=42)\n",
        "model.fit(X_train, y_train)\n",
        "\n",
        "y_pred = model.predict(X_val)\n",
        "y_pred = np.clip(y_pred, 0, None)\n",
        "rmsle = np.sqrt(mean_squared_log_error(y_val, y_pred))\n",
        "print(f'Validation RMSLE: {rmsle}')\n",
        "\n",
        "test_predictions = model.predict(X_test_scaled)\n",
        "test_predictions = np.clip(test_predictions, 0, None)\n",
        "\n",
        "\n",
        "submission = pd.DataFrame({'id': test_ids, 'Calories_Burned': test_predictions})\n",
        "submission.to_csv('submission.csv', index=False)\n",
        "\n",
        "if IN_COLAB:\n",
        "    files.download('submission.csv')\n",
        "else:\n",
        "    print(\"✅ 'submission.csv' file created in your local working directory.\")\n"
      ]
    },
    {
      "cell_type": "code",
      "source": [],
      "metadata": {
        "id": "is79Ez-InpSn"
      },
      "execution_count": null,
      "outputs": []
    }
  ]
}